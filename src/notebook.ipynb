{
 "cells": [
  {
   "cell_type": "code",
   "execution_count": 1,
   "metadata": {},
   "outputs": [],
   "source": [
    "import pandas as pd\n",
    "import numpy as np\n",
    "\n",
    "import genetic_algorithm as ga\n",
    "from nn_ga import GenAlgNN"
   ]
  },
  {
   "cell_type": "code",
   "execution_count": 2,
   "metadata": {},
   "outputs": [],
   "source": [
    "spiral = pd.read_csv('../two_spirals.csv', names=['x', 'y', 'class'])"
   ]
  },
  {
   "cell_type": "code",
   "execution_count": 3,
   "metadata": {},
   "outputs": [],
   "source": [
    "X_valid = spiral.copy()\n",
    "y_valid = X_valid.pop('class')\n",
    "\n",
    "X_train = spiral.sample(frac=0.5)\n",
    "y_train = X_train.pop('class')"
   ]
  },
  {
   "cell_type": "code",
   "execution_count": 4,
   "metadata": {},
   "outputs": [
    {
     "data": {
      "text/plain": [
       "(           x        y\n",
       " 0    4.47485 -0.89004\n",
       " 1   -4.47485  0.89004\n",
       " 2    4.50000  0.00007\n",
       " 3   -4.50000 -0.00007\n",
       " 4    4.35222  0.86578\n",
       " ..       ...      ...\n",
       " 259 -0.57744  0.33915\n",
       " 260  0.55170 -0.00971\n",
       " 261 -0.55170  0.20971\n",
       " 262  0.50000  0.10002\n",
       " 263 -0.50000  0.09998\n",
       " \n",
       " [264 rows x 2 columns],\n",
       " 0      1\n",
       " 1      0\n",
       " 2      1\n",
       " 3      0\n",
       " 4      1\n",
       "       ..\n",
       " 259    0\n",
       " 260    1\n",
       " 261    0\n",
       " 262    1\n",
       " 263    0\n",
       " Name: class, Length: 264, dtype: int64)"
      ]
     },
     "execution_count": 4,
     "metadata": {},
     "output_type": "execute_result"
    }
   ],
   "source": [
    "X_valid, y_valid"
   ]
  },
  {
   "cell_type": "code",
   "execution_count": 5,
   "metadata": {},
   "outputs": [
    {
     "data": {
      "text/plain": [
       "(           x        y\n",
       " 222 -1.23748  1.33739\n",
       " 207 -1.59094 -1.49104\n",
       " 215  0.00007 -1.90000\n",
       " 117 -0.18293  0.91948\n",
       " 114  0.00004 -1.00000\n",
       " ..       ...      ...\n",
       " 89   1.00702 -1.50700\n",
       " 73  -1.92273 -1.28482\n",
       " 11  -3.00515 -3.00525\n",
       " 17  -0.79248 -3.98445\n",
       " 137 -4.35222 -0.76578\n",
       " \n",
       " [132 rows x 2 columns],\n",
       " 222    1\n",
       " 207    0\n",
       " 215    0\n",
       " 117    0\n",
       " 114    1\n",
       "       ..\n",
       " 89     0\n",
       " 73     0\n",
       " 11     0\n",
       " 17     0\n",
       " 137    0\n",
       " Name: class, Length: 132, dtype: int64)"
      ]
     },
     "execution_count": 5,
     "metadata": {},
     "output_type": "execute_result"
    }
   ],
   "source": [
    "X_train, y_train"
   ]
  },
  {
   "cell_type": "code",
   "execution_count": 6,
   "metadata": {},
   "outputs": [],
   "source": [
    "problem_ga = GenAlgNN((np.array(X_train), np.array(y_train)), (np.array(X_valid), np.array(y_valid)))\n",
    "ga_optimizer = ga.GAOptimizer(problem_ga)"
   ]
  },
  {
   "cell_type": "code",
   "execution_count": 7,
   "metadata": {},
   "outputs": [],
   "source": [
    "ga_optimizer.start(10)"
   ]
  },
  {
   "cell_type": "code",
   "execution_count": 8,
   "metadata": {},
   "outputs": [
    {
     "name": "stdout",
     "output_type": "stream",
     "text": [
      "=== New generation ===\n",
      "=== New generation ===\n",
      "=== New generation ===\n",
      "=== New generation ===\n",
      "=== New generation ===\n",
      "=== New generation ===\n",
      "=== New generation ===\n",
      "=== New generation ===\n",
      "=== New generation ===\n",
      "=== New generation ===\n"
     ]
    }
   ],
   "source": [
    "for _ in range(10):\n",
    "    gen = ga_optimizer.next_generation()\n",
    "    print('=== New generation ===')"
   ]
  },
  {
   "cell_type": "code",
   "execution_count": 11,
   "metadata": {},
   "outputs": [],
   "source": [
    "fitnesses = [(problem_ga.fitness(i), i) for i in gen]\n",
    "mse = [(1.0 / f - 1.0, i) for f, i in fitnesses]\n",
    "mse.sort(key=lambda t: t[0])"
   ]
  },
  {
   "cell_type": "code",
   "execution_count": 12,
   "metadata": {},
   "outputs": [
    {
     "data": {
      "text/plain": [
       "[(0.252246230840683, [3, 12, 11, 3, 14, 14, 0, 8]),\n",
       " (0.2536109685897827, [3, 3, 11, 3, 2, 2, 0, 8]),\n",
       " (0.2552160918712616, [2, 8, 11, 3, 9, 14, 0, 8]),\n",
       " (0.25781360268592834, [2, 3, 11, 3, 5, 14, 0, 8]),\n",
       " (0.26478826999664307, [3, 12, 6, 3, 9, 14, 12, 15]),\n",
       " (0.27595144510269165, [3, 12, 11, 3, 14, 14, 0, 8]),\n",
       " (0.278186172246933, [3, 12, 11, 3, 14, 14, 12, 15]),\n",
       " (0.28510403633117676, [3, 12, 10, 3, 9, 14, 12, 15]),\n",
       " (0.2931174039840698, [3, 12, 11, 3, 14, 14, 0, 8]),\n",
       " (0.312226265668869, [15, 12, 12, 3, 14, 14, 0, 8])]"
      ]
     },
     "execution_count": 12,
     "metadata": {},
     "output_type": "execute_result"
    }
   ],
   "source": [
    "mse"
   ]
  }
 ],
 "metadata": {
  "kernelspec": {
   "display_name": "Python 3",
   "language": "python",
   "name": "python3"
  },
  "language_info": {
   "codemirror_mode": {
    "name": "ipython",
    "version": 3
   },
   "file_extension": ".py",
   "mimetype": "text/x-python",
   "name": "python",
   "nbconvert_exporter": "python",
   "pygments_lexer": "ipython3",
   "version": "3.8.5"
  }
 },
 "nbformat": 4,
 "nbformat_minor": 4
}
