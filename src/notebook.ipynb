{
 "cells": [
  {
   "cell_type": "markdown",
   "metadata": {},
   "source": [
    "# GA & GP optimization of NN\n",
    "\n",
    "## Imports"
   ]
  },
  {
   "cell_type": "code",
   "execution_count": null,
   "metadata": {},
   "outputs": [],
   "source": [
    "import pandas as pd\n",
    "import numpy as np\n",
    "import matplotlib.pyplot as plt\n",
    "import tensorflow as tf\n",
    "from tensorflow import keras\n",
    "\n",
    "import genetic_algorithm as ga\n",
    "from nn_ga import GenAlgNN\n",
    "from nn_gp import GenProgNN"
   ]
  },
  {
   "cell_type": "markdown",
   "metadata": {},
   "source": [
    "## Generate and load data"
   ]
  },
  {
   "cell_type": "code",
   "execution_count": null,
   "metadata": {},
   "outputs": [],
   "source": [
    "from math import pi, sin, cos\n",
    "theta = 0.5 * pi\n",
    "while theta < 3.5 * pi:\n",
    "    r = theta * 1.5 / pi\n",
    "    x = r * sin(theta)\n",
    "    y = r * cos(theta)\n",
    "    print(f'{x:.6f},{y:.6f},1')\n",
    "    print(f'{-x:.6f},{-y:.6f},-1')\n",
    "    theta += 0.125 / r"
   ]
  },
  {
   "cell_type": "code",
   "execution_count": null,
   "metadata": {},
   "outputs": [],
   "source": [
    "spiral = pd.read_csv('../two_spirals.csv', names=['x', 'y', 'class'])"
   ]
  },
  {
   "cell_type": "code",
   "execution_count": null,
   "metadata": {},
   "outputs": [],
   "source": [
    "X_valid = spiral.copy()\n",
    "y_valid = X_valid.pop('class')\n",
    "\n",
    "X_train = spiral.sample(frac=0.5)\n",
    "y_train = X_train.pop('class')"
   ]
  },
  {
   "cell_type": "code",
   "execution_count": null,
   "metadata": {},
   "outputs": [],
   "source": [
    "X_valid"
   ]
  },
  {
   "cell_type": "code",
   "execution_count": null,
   "metadata": {},
   "outputs": [],
   "source": [
    "y_valid"
   ]
  },
  {
   "cell_type": "code",
   "execution_count": null,
   "metadata": {},
   "outputs": [],
   "source": [
    "X_train"
   ]
  },
  {
   "cell_type": "code",
   "execution_count": null,
   "metadata": {},
   "outputs": [],
   "source": [
    "y_train"
   ]
  },
  {
   "cell_type": "markdown",
   "metadata": {},
   "source": [
    "## Visualisation utilities"
   ]
  },
  {
   "cell_type": "code",
   "execution_count": null,
   "metadata": {},
   "outputs": [],
   "source": [
    "def visualize_model(model):\n",
    "    global X_train, y_train\n",
    "    points = np.zeros([120, 120, 2])\n",
    "    for y in range(120):\n",
    "        for x in range(120):\n",
    "            points[y, x, 0] = (x - 60) / 10.0\n",
    "            points[y, x, 1] = (y - 60) / 10.0\n",
    "    plt.imshow(model.predict(points.reshape([-1, 2])).reshape([120, 120]), cmap='cividis', vmin=-1, vmax=1)\n",
    "    plt.colorbar()\n",
    "    plt.axis('off')\n",
    "    points = X_train.where(y_train > 0) * 10 + 60\n",
    "    plt.scatter(points['x'], points['y'], c='red')\n",
    "    points = X_train.where(y_train < 0) * 10 + 60\n",
    "    plt.scatter(points['x'], points['y'], c='limegreen')\n",
    "    plt.show()"
   ]
  },
  {
   "cell_type": "code",
   "execution_count": null,
   "metadata": {},
   "outputs": [],
   "source": [
    "def print_population(fitnesses, population):\n",
    "    arr = [(1.0 / f - 1.0, i) for f, i in zip(fitnesses, population)]\n",
    "    arr.sort(key=lambda t: t[0])\n",
    "    for m, i in arr:\n",
    "        print(f'mse={m:.4f} {i}')\n",
    "    return arr"
   ]
  },
  {
   "cell_type": "markdown",
   "metadata": {},
   "source": [
    "## Test NN"
   ]
  },
  {
   "cell_type": "code",
   "execution_count": null,
   "metadata": {},
   "outputs": [],
   "source": [
    "model = keras.models.Sequential([\n",
    "    keras.layers.Dense(6, activation='tanh'),\n",
    "    keras.layers.Dense(4, activation='tanh'),\n",
    "    keras.layers.Dense(1, activation='tanh')])\n",
    "model.compile(loss='mse', optimizer=keras.optimizers.SGD(lr=0.03))\n",
    "model.fit(np.array(X_train), np.array(y_train), epochs=2000, batch_size=8, verbose=0)\n",
    "keras.losses.MeanSquaredError()(y_valid, model.predict(X_valid)).numpy()"
   ]
  },
  {
   "cell_type": "code",
   "execution_count": null,
   "metadata": {},
   "outputs": [],
   "source": [
    "visualize_model(model)"
   ]
  },
  {
   "cell_type": "markdown",
   "metadata": {},
   "source": [
    "## Genetic Algorithm"
   ]
  },
  {
   "cell_type": "code",
   "execution_count": null,
   "metadata": {},
   "outputs": [],
   "source": [
    "problem_ga = GenAlgNN((np.array(X_train), np.array(y_train)), (np.array(X_valid), np.array(y_valid)))\n",
    "ga_optimizer = ga.GAOptimizer(problem_ga)"
   ]
  },
  {
   "cell_type": "code",
   "execution_count": null,
   "metadata": {
    "scrolled": true
   },
   "outputs": [],
   "source": [
    "ga_optimizer.start(8)\n",
    "for i in range(6):\n",
    "    old_population = ga_optimizer.population\n",
    "    gen, old_fitnesses = ga_optimizer.next_generation()\n",
    "    print_population(old_fitnesses, old_population)\n",
    "    print('=== New generation ===', i)"
   ]
  },
  {
   "cell_type": "code",
   "execution_count": null,
   "metadata": {},
   "outputs": [],
   "source": [
    "fitnesses = [problem_ga.fitness(i) for i in gen]\n",
    "mse = print_population(fitnesses, gen)"
   ]
  },
  {
   "cell_type": "code",
   "execution_count": null,
   "metadata": {
    "scrolled": true
   },
   "outputs": [],
   "source": [
    "problem_ga.epochs = 4000\n",
    "model = problem_ga.train_nn(mse[0][1])\n",
    "keras.losses.MeanSquaredError()(y_valid, model.predict(X_valid)).numpy()"
   ]
  },
  {
   "cell_type": "code",
   "execution_count": null,
   "metadata": {},
   "outputs": [],
   "source": [
    "visualize_model(model)"
   ]
  },
  {
   "cell_type": "markdown",
   "metadata": {},
   "source": [
    "## Genetic Programming"
   ]
  },
  {
   "cell_type": "code",
   "execution_count": null,
   "metadata": {},
   "outputs": [],
   "source": [
    "problem_gp = GenProgNN((np.array(X_train), np.array(y_train)), (np.array(X_valid), np.array(y_valid)))\n",
    "gp_optimizer = ga.GAOptimizer(problem_gp)"
   ]
  },
  {
   "cell_type": "code",
   "execution_count": null,
   "metadata": {
    "scrolled": true
   },
   "outputs": [],
   "source": [
    "gp_optimizer.start(10)\n",
    "for i in range(8):\n",
    "    old_population = gp_optimizer.population\n",
    "    gen, old_fitnesses = gp_optimizer.next_generation()\n",
    "    print_population(old_fitnesses, old_population)\n",
    "    print('=== New generation ===', i)"
   ]
  },
  {
   "cell_type": "code",
   "execution_count": null,
   "metadata": {},
   "outputs": [],
   "source": [
    "fitnesses = [problem_gp.fitness(i) for i in gen]\n",
    "mse = print_population(fitnesses, gen)"
   ]
  },
  {
   "cell_type": "code",
   "execution_count": null,
   "metadata": {},
   "outputs": [],
   "source": [
    "problem_gp.epochs = 4000\n",
    "model = problem_gp.train_nn(mse[0][1])\n",
    "keras.losses.MeanSquaredError()(y_valid, model.predict(X_valid)).numpy()"
   ]
  },
  {
   "cell_type": "code",
   "execution_count": null,
   "metadata": {},
   "outputs": [],
   "source": [
    "visualize_model(model)"
   ]
  },
  {
   "cell_type": "code",
   "execution_count": null,
   "metadata": {},
   "outputs": [],
   "source": [
    "for item in mse:\n",
    "    print('digraph {')\n",
    "    print(item[1].to_dot())\n",
    "    print('}')\n",
    "    print()"
   ]
  },
  {
   "cell_type": "code",
   "execution_count": null,
   "metadata": {},
   "outputs": [],
   "source": []
  }
 ],
 "metadata": {
  "kernelspec": {
   "display_name": "Python 3",
   "language": "python",
   "name": "python3"
  },
  "language_info": {
   "codemirror_mode": {
    "name": "ipython",
    "version": 3
   },
   "file_extension": ".py",
   "mimetype": "text/x-python",
   "name": "python",
   "nbconvert_exporter": "python",
   "pygments_lexer": "ipython3",
   "version": "3.8.5"
  }
 },
 "nbformat": 4,
 "nbformat_minor": 4
}
